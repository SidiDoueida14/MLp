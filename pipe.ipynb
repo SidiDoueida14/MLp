{
 "cells": [
  {
   "cell_type": "code",
   "execution_count": 1,
   "id": "secret-freedom",
   "metadata": {},
   "outputs": [],
   "source": [
    "from sklearn.linear_model import LogisticRegression\n",
    "from sklearn.svm import SVC\n",
    "from sklearn.ensemble import GradientBoostingClassifier\n",
    "from sklearn.model_selection import train_test_split, GridSearchCV\n",
    "from sklearn.pipeline import Pipeline\n",
    "from sklearn.preprocessing import StandardScaler\n",
    "from sklearn.datasets import load_iris, load_breast_cancer\n",
    "import numpy as np"
   ]
  },
  {
   "cell_type": "code",
   "execution_count": 2,
   "id": "perceived-implement",
   "metadata": {},
   "outputs": [],
   "source": [
    "iris = load_iris()\n",
    "xtrain,xtest,ytrain,ytest = train_test_split(iris.data,iris.target,stratify=iris.target,random_state=0)"
   ]
  },
  {
   "cell_type": "code",
   "execution_count": 3,
   "id": "charged-exhaust",
   "metadata": {},
   "outputs": [
    {
     "name": "stdout",
     "output_type": "stream",
     "text": [
      "unique dist [37 37 38]\n",
      "unique test [13 13 12]\n"
     ]
    }
   ],
   "source": [
    "import numpy as np\n",
    "print(\"unique dist {}\".format(np.bincount(ytrain)))\n",
    "print(\"unique test {}\".format(np.bincount(ytest)))"
   ]
  },
  {
   "cell_type": "code",
   "execution_count": 4,
   "id": "acknowledged-pendant",
   "metadata": {},
   "outputs": [],
   "source": [
    "sc = StandardScaler()\n",
    "xtrainscaled = sc.fit_transform(xtrain)\n",
    "xtestscaled = sc.transform(xtest)"
   ]
  },
  {
   "cell_type": "code",
   "execution_count": 7,
   "id": "framed-nitrogen",
   "metadata": {},
   "outputs": [
    {
     "name": "stdout",
     "output_type": "stream",
     "text": [
      "log on train_data 0.9553571428571429\n",
      "log on test_data 1.0\n"
     ]
    }
   ],
   "source": [
    "log = LogisticRegression()\n",
    "log.fit(xtrain,ytrain)\n",
    "print(\"log on train_data {}\".format(log.score(xtrain,ytrain)))\n",
    "print(\"log on test_data {}\".format(log.score(xtest,ytest)))"
   ]
  },
  {
   "cell_type": "code",
   "execution_count": 9,
   "id": "oriented-visit",
   "metadata": {},
   "outputs": [
    {
     "name": "stdout",
     "output_type": "stream",
     "text": [
      "pipe on train_data 0.9553571428571429\n",
      "pipe on test_data 0.9553571428571429\n"
     ]
    }
   ],
   "source": [
    "pipe = Pipeline([(\"preprocess\",StandardScaler()),(\"classifier\",LogisticRegression())])\n",
    "pipe.fit(xtrain,ytrain)\n",
    "print(\"pipe on train_data {}\".format(pipe.score(xtrain,ytrain)))\n",
    "print(\"pipe on test_data {}\".format(pipe.score(xtrain,ytrain)))"
   ]
  },
  {
   "cell_type": "code",
   "execution_count": 10,
   "id": "proved-sussex",
   "metadata": {},
   "outputs": [],
   "source": [
    "param = {\"classifier__C\":[0.01,0.1,1,10],\n",
    "        \"preprocess\":[None,StandardScaler()]}"
   ]
  },
  {
   "cell_type": "code",
   "execution_count": 16,
   "id": "manufactured-ability",
   "metadata": {},
   "outputs": [
    {
     "data": {
      "text/plain": [
       "LogisticRegression()"
      ]
     },
     "execution_count": 16,
     "metadata": {},
     "output_type": "execute_result"
    }
   ],
   "source": [
    "pipe.named_steps[\"classifier\"]"
   ]
  },
  {
   "cell_type": "code",
   "execution_count": 17,
   "id": "finite-garbage",
   "metadata": {},
   "outputs": [],
   "source": [
    "grid = GridSearchCV(pipe,param_grid=param,cv=3)"
   ]
  },
  {
   "cell_type": "code",
   "execution_count": 18,
   "id": "serious-riverside",
   "metadata": {},
   "outputs": [
    {
     "name": "stderr",
     "output_type": "stream",
     "text": [
      "C:\\Users\\Sidi\\anaconda3\\lib\\site-packages\\sklearn\\model_selection\\_validation.py:548: FitFailedWarning: Estimator fit failed. The score on this train-test partition for these parameters will be set to nan. Details: \n",
      "Traceback (most recent call last):\n",
      "  File \"C:\\Users\\Sidi\\anaconda3\\lib\\site-packages\\sklearn\\model_selection\\_validation.py\", line 531, in _fit_and_score\n",
      "    estimator.fit(X_train, y_train, **fit_params)\n",
      "  File \"C:\\Users\\Sidi\\anaconda3\\lib\\site-packages\\sklearn\\pipeline.py\", line 335, in fit\n",
      "    self._final_estimator.fit(Xt, y, **fit_params_last_step)\n",
      "  File \"C:\\Users\\Sidi\\anaconda3\\lib\\site-packages\\sklearn\\linear_model\\_logistic.py\", line 1407, in fit\n",
      "    fold_coefs_ = Parallel(n_jobs=self.n_jobs, verbose=self.verbose,\n",
      "  File \"C:\\Users\\Sidi\\anaconda3\\lib\\site-packages\\joblib\\parallel.py\", line 1041, in __call__\n",
      "    if self.dispatch_one_batch(iterator):\n",
      "  File \"C:\\Users\\Sidi\\anaconda3\\lib\\site-packages\\joblib\\parallel.py\", line 859, in dispatch_one_batch\n",
      "    self._dispatch(tasks)\n",
      "  File \"C:\\Users\\Sidi\\anaconda3\\lib\\site-packages\\joblib\\parallel.py\", line 777, in _dispatch\n",
      "    job = self._backend.apply_async(batch, callback=cb)\n",
      "  File \"C:\\Users\\Sidi\\anaconda3\\lib\\site-packages\\joblib\\_parallel_backends.py\", line 208, in apply_async\n",
      "    result = ImmediateResult(func)\n",
      "  File \"C:\\Users\\Sidi\\anaconda3\\lib\\site-packages\\joblib\\_parallel_backends.py\", line 572, in __init__\n",
      "    self.results = batch()\n",
      "  File \"C:\\Users\\Sidi\\anaconda3\\lib\\site-packages\\joblib\\parallel.py\", line 262, in __call__\n",
      "    return [func(*args, **kwargs)\n",
      "  File \"C:\\Users\\Sidi\\anaconda3\\lib\\site-packages\\joblib\\parallel.py\", line 262, in <listcomp>\n",
      "    return [func(*args, **kwargs)\n",
      "  File \"C:\\Users\\Sidi\\anaconda3\\lib\\site-packages\\sklearn\\linear_model\\_logistic.py\", line 762, in _logistic_regression_path\n",
      "    n_iter_i = _check_optimize_result(\n",
      "  File \"C:\\Users\\Sidi\\anaconda3\\lib\\site-packages\\sklearn\\utils\\optimize.py\", line 243, in _check_optimize_result\n",
      "    ).format(solver, result.status, result.message.decode(\"latin1\"))\n",
      "AttributeError: 'str' object has no attribute 'decode'\n",
      "\n",
      "  warnings.warn(\"Estimator fit failed. The score on this train-test\"\n",
      "C:\\Users\\Sidi\\anaconda3\\lib\\site-packages\\sklearn\\model_selection\\_validation.py:548: FitFailedWarning: Estimator fit failed. The score on this train-test partition for these parameters will be set to nan. Details: \n",
      "Traceback (most recent call last):\n",
      "  File \"C:\\Users\\Sidi\\anaconda3\\lib\\site-packages\\sklearn\\model_selection\\_validation.py\", line 531, in _fit_and_score\n",
      "    estimator.fit(X_train, y_train, **fit_params)\n",
      "  File \"C:\\Users\\Sidi\\anaconda3\\lib\\site-packages\\sklearn\\pipeline.py\", line 335, in fit\n",
      "    self._final_estimator.fit(Xt, y, **fit_params_last_step)\n",
      "  File \"C:\\Users\\Sidi\\anaconda3\\lib\\site-packages\\sklearn\\linear_model\\_logistic.py\", line 1407, in fit\n",
      "    fold_coefs_ = Parallel(n_jobs=self.n_jobs, verbose=self.verbose,\n",
      "  File \"C:\\Users\\Sidi\\anaconda3\\lib\\site-packages\\joblib\\parallel.py\", line 1041, in __call__\n",
      "    if self.dispatch_one_batch(iterator):\n",
      "  File \"C:\\Users\\Sidi\\anaconda3\\lib\\site-packages\\joblib\\parallel.py\", line 859, in dispatch_one_batch\n",
      "    self._dispatch(tasks)\n",
      "  File \"C:\\Users\\Sidi\\anaconda3\\lib\\site-packages\\joblib\\parallel.py\", line 777, in _dispatch\n",
      "    job = self._backend.apply_async(batch, callback=cb)\n",
      "  File \"C:\\Users\\Sidi\\anaconda3\\lib\\site-packages\\joblib\\_parallel_backends.py\", line 208, in apply_async\n",
      "    result = ImmediateResult(func)\n",
      "  File \"C:\\Users\\Sidi\\anaconda3\\lib\\site-packages\\joblib\\_parallel_backends.py\", line 572, in __init__\n",
      "    self.results = batch()\n",
      "  File \"C:\\Users\\Sidi\\anaconda3\\lib\\site-packages\\joblib\\parallel.py\", line 262, in __call__\n",
      "    return [func(*args, **kwargs)\n",
      "  File \"C:\\Users\\Sidi\\anaconda3\\lib\\site-packages\\joblib\\parallel.py\", line 262, in <listcomp>\n",
      "    return [func(*args, **kwargs)\n",
      "  File \"C:\\Users\\Sidi\\anaconda3\\lib\\site-packages\\sklearn\\linear_model\\_logistic.py\", line 762, in _logistic_regression_path\n",
      "    n_iter_i = _check_optimize_result(\n",
      "  File \"C:\\Users\\Sidi\\anaconda3\\lib\\site-packages\\sklearn\\utils\\optimize.py\", line 243, in _check_optimize_result\n",
      "    ).format(solver, result.status, result.message.decode(\"latin1\"))\n",
      "AttributeError: 'str' object has no attribute 'decode'\n",
      "\n",
      "  warnings.warn(\"Estimator fit failed. The score on this train-test\"\n",
      "C:\\Users\\Sidi\\anaconda3\\lib\\site-packages\\sklearn\\model_selection\\_validation.py:548: FitFailedWarning: Estimator fit failed. The score on this train-test partition for these parameters will be set to nan. Details: \n",
      "Traceback (most recent call last):\n",
      "  File \"C:\\Users\\Sidi\\anaconda3\\lib\\site-packages\\sklearn\\model_selection\\_validation.py\", line 531, in _fit_and_score\n",
      "    estimator.fit(X_train, y_train, **fit_params)\n",
      "  File \"C:\\Users\\Sidi\\anaconda3\\lib\\site-packages\\sklearn\\pipeline.py\", line 335, in fit\n",
      "    self._final_estimator.fit(Xt, y, **fit_params_last_step)\n",
      "  File \"C:\\Users\\Sidi\\anaconda3\\lib\\site-packages\\sklearn\\linear_model\\_logistic.py\", line 1407, in fit\n",
      "    fold_coefs_ = Parallel(n_jobs=self.n_jobs, verbose=self.verbose,\n",
      "  File \"C:\\Users\\Sidi\\anaconda3\\lib\\site-packages\\joblib\\parallel.py\", line 1041, in __call__\n",
      "    if self.dispatch_one_batch(iterator):\n",
      "  File \"C:\\Users\\Sidi\\anaconda3\\lib\\site-packages\\joblib\\parallel.py\", line 859, in dispatch_one_batch\n",
      "    self._dispatch(tasks)\n",
      "  File \"C:\\Users\\Sidi\\anaconda3\\lib\\site-packages\\joblib\\parallel.py\", line 777, in _dispatch\n",
      "    job = self._backend.apply_async(batch, callback=cb)\n",
      "  File \"C:\\Users\\Sidi\\anaconda3\\lib\\site-packages\\joblib\\_parallel_backends.py\", line 208, in apply_async\n",
      "    result = ImmediateResult(func)\n",
      "  File \"C:\\Users\\Sidi\\anaconda3\\lib\\site-packages\\joblib\\_parallel_backends.py\", line 572, in __init__\n",
      "    self.results = batch()\n",
      "  File \"C:\\Users\\Sidi\\anaconda3\\lib\\site-packages\\joblib\\parallel.py\", line 262, in __call__\n",
      "    return [func(*args, **kwargs)\n",
      "  File \"C:\\Users\\Sidi\\anaconda3\\lib\\site-packages\\joblib\\parallel.py\", line 262, in <listcomp>\n",
      "    return [func(*args, **kwargs)\n",
      "  File \"C:\\Users\\Sidi\\anaconda3\\lib\\site-packages\\sklearn\\linear_model\\_logistic.py\", line 762, in _logistic_regression_path\n",
      "    n_iter_i = _check_optimize_result(\n",
      "  File \"C:\\Users\\Sidi\\anaconda3\\lib\\site-packages\\sklearn\\utils\\optimize.py\", line 243, in _check_optimize_result\n",
      "    ).format(solver, result.status, result.message.decode(\"latin1\"))\n",
      "AttributeError: 'str' object has no attribute 'decode'\n",
      "\n",
      "  warnings.warn(\"Estimator fit failed. The score on this train-test\"\n"
     ]
    },
    {
     "name": "stdout",
     "output_type": "stream",
     "text": [
      "grid on train_data 0.9732142857142857\n",
      "grid on test_data 1.0\n"
     ]
    }
   ],
   "source": [
    "grid.fit(xtrain,ytrain)\n",
    "print(\"grid on train_data {}\".format(grid.score(xtrain,ytrain)))\n",
    "print(\"grid on test_data {}\".format(grid.score(xtest,ytest)))"
   ]
  },
  {
   "cell_type": "code",
   "execution_count": 22,
   "id": "collectible-adjustment",
   "metadata": {},
   "outputs": [
    {
     "data": {
      "text/plain": [
       "{'preprocess': StandardScaler(), 'classifier': LogisticRegression(C=10)}"
      ]
     },
     "execution_count": 22,
     "metadata": {},
     "output_type": "execute_result"
    }
   ],
   "source": [
    "grid.best_estimator_.named_steps"
   ]
  },
  {
   "cell_type": "code",
   "execution_count": 23,
   "id": "dying-bidding",
   "metadata": {},
   "outputs": [
    {
     "data": {
      "text/html": [
       "<div>\n",
       "<style scoped>\n",
       "    .dataframe tbody tr th:only-of-type {\n",
       "        vertical-align: middle;\n",
       "    }\n",
       "\n",
       "    .dataframe tbody tr th {\n",
       "        vertical-align: top;\n",
       "    }\n",
       "\n",
       "    .dataframe thead th {\n",
       "        text-align: right;\n",
       "    }\n",
       "</style>\n",
       "<table border=\"1\" class=\"dataframe\">\n",
       "  <thead>\n",
       "    <tr style=\"text-align: right;\">\n",
       "      <th></th>\n",
       "      <th>mean_fit_time</th>\n",
       "      <th>std_fit_time</th>\n",
       "      <th>mean_score_time</th>\n",
       "      <th>std_score_time</th>\n",
       "      <th>param_classifier__C</th>\n",
       "      <th>param_preprocess</th>\n",
       "      <th>params</th>\n",
       "      <th>split0_test_score</th>\n",
       "      <th>split1_test_score</th>\n",
       "      <th>split2_test_score</th>\n",
       "      <th>mean_test_score</th>\n",
       "      <th>std_test_score</th>\n",
       "      <th>rank_test_score</th>\n",
       "    </tr>\n",
       "  </thead>\n",
       "  <tbody>\n",
       "    <tr>\n",
       "      <th>0</th>\n",
       "      <td>0.020686</td>\n",
       "      <td>0.009455</td>\n",
       "      <td>0.0</td>\n",
       "      <td>0.0</td>\n",
       "      <td>0.01</td>\n",
       "      <td>None</td>\n",
       "      <td>{'classifier__C': 0.01, 'preprocess': None}</td>\n",
       "      <td>0.763158</td>\n",
       "      <td>0.837838</td>\n",
       "      <td>0.810811</td>\n",
       "      <td>0.803936</td>\n",
       "      <td>0.030873</td>\n",
       "      <td>6</td>\n",
       "    </tr>\n",
       "    <tr>\n",
       "      <th>1</th>\n",
       "      <td>0.019137</td>\n",
       "      <td>0.007903</td>\n",
       "      <td>0.0</td>\n",
       "      <td>0.0</td>\n",
       "      <td>0.01</td>\n",
       "      <td>StandardScaler()</td>\n",
       "      <td>{'classifier__C': 0.01, 'preprocess': Standard...</td>\n",
       "      <td>0.815789</td>\n",
       "      <td>0.837838</td>\n",
       "      <td>0.864865</td>\n",
       "      <td>0.839497</td>\n",
       "      <td>0.020069</td>\n",
       "      <td>5</td>\n",
       "    </tr>\n",
       "    <tr>\n",
       "      <th>2</th>\n",
       "      <td>0.031663</td>\n",
       "      <td>0.006197</td>\n",
       "      <td>0.0</td>\n",
       "      <td>0.0</td>\n",
       "      <td>0.1</td>\n",
       "      <td>None</td>\n",
       "      <td>{'classifier__C': 0.1, 'preprocess': None}</td>\n",
       "      <td>0.868421</td>\n",
       "      <td>0.945946</td>\n",
       "      <td>0.945946</td>\n",
       "      <td>0.920104</td>\n",
       "      <td>0.036546</td>\n",
       "      <td>3</td>\n",
       "    </tr>\n",
       "    <tr>\n",
       "      <th>3</th>\n",
       "      <td>0.008125</td>\n",
       "      <td>0.002548</td>\n",
       "      <td>0.0</td>\n",
       "      <td>0.0</td>\n",
       "      <td>0.1</td>\n",
       "      <td>StandardScaler()</td>\n",
       "      <td>{'classifier__C': 0.1, 'preprocess': StandardS...</td>\n",
       "      <td>0.815789</td>\n",
       "      <td>0.918919</td>\n",
       "      <td>0.918919</td>\n",
       "      <td>0.884542</td>\n",
       "      <td>0.048616</td>\n",
       "      <td>4</td>\n",
       "    </tr>\n",
       "    <tr>\n",
       "      <th>4</th>\n",
       "      <td>0.048211</td>\n",
       "      <td>0.004473</td>\n",
       "      <td>0.0</td>\n",
       "      <td>0.0</td>\n",
       "      <td>1</td>\n",
       "      <td>None</td>\n",
       "      <td>{'classifier__C': 1, 'preprocess': None}</td>\n",
       "      <td>0.894737</td>\n",
       "      <td>NaN</td>\n",
       "      <td>0.972973</td>\n",
       "      <td>NaN</td>\n",
       "      <td>NaN</td>\n",
       "      <td>7</td>\n",
       "    </tr>\n",
       "    <tr>\n",
       "      <th>5</th>\n",
       "      <td>0.004893</td>\n",
       "      <td>0.000223</td>\n",
       "      <td>0.0</td>\n",
       "      <td>0.0</td>\n",
       "      <td>1</td>\n",
       "      <td>StandardScaler()</td>\n",
       "      <td>{'classifier__C': 1, 'preprocess': StandardSca...</td>\n",
       "      <td>0.894737</td>\n",
       "      <td>0.972973</td>\n",
       "      <td>0.945946</td>\n",
       "      <td>0.937885</td>\n",
       "      <td>0.032444</td>\n",
       "      <td>2</td>\n",
       "    </tr>\n",
       "    <tr>\n",
       "      <th>6</th>\n",
       "      <td>0.030055</td>\n",
       "      <td>0.000219</td>\n",
       "      <td>0.0</td>\n",
       "      <td>0.0</td>\n",
       "      <td>10</td>\n",
       "      <td>None</td>\n",
       "      <td>{'classifier__C': 10, 'preprocess': None}</td>\n",
       "      <td>0.921053</td>\n",
       "      <td>NaN</td>\n",
       "      <td>NaN</td>\n",
       "      <td>NaN</td>\n",
       "      <td>NaN</td>\n",
       "      <td>8</td>\n",
       "    </tr>\n",
       "    <tr>\n",
       "      <th>7</th>\n",
       "      <td>0.010767</td>\n",
       "      <td>0.000982</td>\n",
       "      <td>0.0</td>\n",
       "      <td>0.0</td>\n",
       "      <td>10</td>\n",
       "      <td>StandardScaler()</td>\n",
       "      <td>{'classifier__C': 10, 'preprocess': StandardSc...</td>\n",
       "      <td>0.947368</td>\n",
       "      <td>0.972973</td>\n",
       "      <td>0.918919</td>\n",
       "      <td>0.946420</td>\n",
       "      <td>0.022078</td>\n",
       "      <td>1</td>\n",
       "    </tr>\n",
       "  </tbody>\n",
       "</table>\n",
       "</div>"
      ],
      "text/plain": [
       "   mean_fit_time  std_fit_time  mean_score_time  std_score_time  \\\n",
       "0       0.020686      0.009455              0.0             0.0   \n",
       "1       0.019137      0.007903              0.0             0.0   \n",
       "2       0.031663      0.006197              0.0             0.0   \n",
       "3       0.008125      0.002548              0.0             0.0   \n",
       "4       0.048211      0.004473              0.0             0.0   \n",
       "5       0.004893      0.000223              0.0             0.0   \n",
       "6       0.030055      0.000219              0.0             0.0   \n",
       "7       0.010767      0.000982              0.0             0.0   \n",
       "\n",
       "  param_classifier__C  param_preprocess  \\\n",
       "0                0.01              None   \n",
       "1                0.01  StandardScaler()   \n",
       "2                 0.1              None   \n",
       "3                 0.1  StandardScaler()   \n",
       "4                   1              None   \n",
       "5                   1  StandardScaler()   \n",
       "6                  10              None   \n",
       "7                  10  StandardScaler()   \n",
       "\n",
       "                                              params  split0_test_score  \\\n",
       "0        {'classifier__C': 0.01, 'preprocess': None}           0.763158   \n",
       "1  {'classifier__C': 0.01, 'preprocess': Standard...           0.815789   \n",
       "2         {'classifier__C': 0.1, 'preprocess': None}           0.868421   \n",
       "3  {'classifier__C': 0.1, 'preprocess': StandardS...           0.815789   \n",
       "4           {'classifier__C': 1, 'preprocess': None}           0.894737   \n",
       "5  {'classifier__C': 1, 'preprocess': StandardSca...           0.894737   \n",
       "6          {'classifier__C': 10, 'preprocess': None}           0.921053   \n",
       "7  {'classifier__C': 10, 'preprocess': StandardSc...           0.947368   \n",
       "\n",
       "   split1_test_score  split2_test_score  mean_test_score  std_test_score  \\\n",
       "0           0.837838           0.810811         0.803936        0.030873   \n",
       "1           0.837838           0.864865         0.839497        0.020069   \n",
       "2           0.945946           0.945946         0.920104        0.036546   \n",
       "3           0.918919           0.918919         0.884542        0.048616   \n",
       "4                NaN           0.972973              NaN             NaN   \n",
       "5           0.972973           0.945946         0.937885        0.032444   \n",
       "6                NaN                NaN              NaN             NaN   \n",
       "7           0.972973           0.918919         0.946420        0.022078   \n",
       "\n",
       "   rank_test_score  \n",
       "0                6  \n",
       "1                5  \n",
       "2                3  \n",
       "3                4  \n",
       "4                7  \n",
       "5                2  \n",
       "6                8  \n",
       "7                1  "
      ]
     },
     "execution_count": 23,
     "metadata": {},
     "output_type": "execute_result"
    }
   ],
   "source": [
    "import pandas as pd\n",
    "df = pd.DataFrame(grid.cv_results_)\n",
    "df"
   ]
  },
  {
   "cell_type": "code",
   "execution_count": null,
   "id": "straight-story",
   "metadata": {},
   "outputs": [],
   "source": []
  }
 ],
 "metadata": {
  "kernelspec": {
   "display_name": "Python 3",
   "language": "python",
   "name": "python3"
  },
  "language_info": {
   "codemirror_mode": {
    "name": "ipython",
    "version": 3
   },
   "file_extension": ".py",
   "mimetype": "text/x-python",
   "name": "python",
   "nbconvert_exporter": "python",
   "pygments_lexer": "ipython3",
   "version": "3.8.5"
  }
 },
 "nbformat": 4,
 "nbformat_minor": 5
}
